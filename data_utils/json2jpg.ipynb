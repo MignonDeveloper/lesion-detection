{
 "cells": [
  {
   "cell_type": "code",
   "execution_count": 1,
   "source": [
    "import json\n",
    "import base64\n",
    "import os\n",
    "from PIL import Image\n",
    "from io import BytesIO\n",
    "from tqdm import tqdm\n",
    "from glob import glob\n",
    "\n",
    "base_dir = \"../json_data\""
   ],
   "outputs": [],
   "metadata": {}
  },
  {
   "cell_type": "code",
   "execution_count": 2,
   "source": [
    "json_paths = glob(os.path.join(base_dir, 'train', '*.json'))\n",
    "\n",
    "for json_path in tqdm(json_paths):\n",
    "    with open(json_path, 'r') as f:\n",
    "        tmp = json.load(f)\n",
    "\n",
    "    image = BytesIO(base64.b64decode(tmp['imageData']))\n",
    "    image = Image.open(image).convert('RGB')\n",
    "\n",
    "    image.save(os.path.join(\"../data\", \"train\", tmp['file_name'].split(\".\")[0]+\".jpg\"))"
   ],
   "outputs": [
    {
     "output_type": "stream",
     "name": "stderr",
     "text": [
      "100%|██████████| 62622/62622 [10:53<00:00, 95.88it/s] \n"
     ]
    }
   ],
   "metadata": {}
  },
  {
   "cell_type": "code",
   "execution_count": 3,
   "source": [
    "json_paths = glob(os.path.join(base_dir, 'test', '*.json'))\n",
    "\n",
    "for json_path in tqdm(json_paths):\n",
    "    with open(json_path, 'r') as f:\n",
    "        tmp = json.load(f)\n",
    "\n",
    "    image = BytesIO(base64.b64decode(tmp['imageData']))\n",
    "    image = Image.open(image).convert('RGB')\n",
    "\n",
    "    image.save(os.path.join(\"../data\", \"test\", tmp['file_name'].split(\".\")[0]+\".jpg\"))"
   ],
   "outputs": [
    {
     "output_type": "stream",
     "name": "stderr",
     "text": [
      "100%|██████████| 20874/20874 [03:24<00:00, 102.09it/s]\n"
     ]
    }
   ],
   "metadata": {}
  },
  {
   "cell_type": "code",
   "execution_count": null,
   "source": [],
   "outputs": [],
   "metadata": {}
  }
 ],
 "metadata": {
  "interpreter": {
   "hash": "dc18d457dba608fe69fb520f5def7cfd617ffc4c70dd7b18cd99a5d79f65848c"
  },
  "kernelspec": {
   "name": "python3",
   "display_name": "Python 3.8.12 64-bit ('korean-font-gen': conda)"
  },
  "language_info": {
   "codemirror_mode": {
    "name": "ipython",
    "version": 3
   },
   "file_extension": ".py",
   "mimetype": "text/x-python",
   "name": "python",
   "nbconvert_exporter": "python",
   "pygments_lexer": "ipython3",
   "version": "3.8.12"
  },
  "orig_nbformat": 4
 },
 "nbformat": 4,
 "nbformat_minor": 2
}