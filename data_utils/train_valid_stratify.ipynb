{
 "cells": [
  {
   "cell_type": "code",
   "execution_count": 1,
   "source": [
    "import json\n",
    "from collections import defaultdict\n",
    "from sklearn.model_selection import StratifiedKFold\n",
    "import pandas as pd\n",
    "import numpy as np\n",
    "from tqdm import tqdm"
   ],
   "outputs": [],
   "metadata": {}
  },
  {
   "cell_type": "code",
   "execution_count": 2,
   "source": [
    "coco_path = \"/home/minyong-voyagerx/Mignon/Min/bb-detection/data/train_annotations.json\"\n",
    "\n",
    "with open(coco_path, 'r') as f:\n",
    "    ann_json = json.load(f)"
   ],
   "outputs": [],
   "metadata": {}
  },
  {
   "cell_type": "code",
   "execution_count": 3,
   "source": [
    "def make_train_valid_json(valid_image_list, fold):\n",
    "    new_train_ann_json = defaultdict(list)\n",
    "    new_train_ann_json[\"info\"] = ann_json[\"info\"]\n",
    "    new_train_ann_json[\"categories\"] = ann_json[\"categories\"]\n",
    "\n",
    "    new_valid_ann_json = defaultdict(list)\n",
    "    new_valid_ann_json[\"info\"] = ann_json[\"info\"]\n",
    "\n",
    "    for ann in tqdm(ann_json[\"images\"]):\n",
    "        if ann[\"id\"] not in valid_image_list:\n",
    "            new_train_ann_json['images'].append(ann)\n",
    "        else:\n",
    "            new_valid_ann_json['images'].append(ann)\n",
    "\n",
    "    train_nid = 0\n",
    "    valid_nid = 0\n",
    "    for ann in tqdm(ann_json[\"annotations\"]):\n",
    "        if ann[\"image_id\"] not in valid_image_list:\n",
    "            ann[\"id\"] = train_nid\n",
    "            train_nid += 1\n",
    "            new_train_ann_json['annotations'].append(ann)\n",
    "        else:\n",
    "            ann[\"id\"] = valid_nid\n",
    "            valid_nid += 1\n",
    "            new_valid_ann_json['annotations'].append(ann)\n",
    "\n",
    "\n",
    "    new_train_ann_json[\"categories\"] = ann_json[\"categories\"]\n",
    "    new_valid_ann_json[\"categories\"] = ann_json[\"categories\"]\n",
    "    \n",
    "\n",
    "    with open(f\"../data/train_fold{fold}.json\", 'w') as f:\n",
    "        json.dump(new_train_ann_json, f)\n",
    "    \n",
    "    with open(f\"../data/valid_fold{fold}.json\", 'w') as f:\n",
    "        json.dump(new_valid_ann_json, f)"
   ],
   "outputs": [],
   "metadata": {}
  },
  {
   "cell_type": "code",
   "execution_count": 4,
   "source": [
    "def get_train_valid_img_list(kfold, df):\n",
    "    df_folds = df[['image_id']].copy()\n",
    "\n",
    "    df_folds.loc[:, 'bbox_count'] = 1\n",
    "\n",
    "    df_folds = df_folds.groupby('image_id').count()\n",
    "\n",
    "    df_folds.loc[:, 'object_count'] = df.groupby('image_id')['class_id'].nunique()\n",
    "\n",
    "    df_folds.loc[:, 'stratify_group'] = np.char.add(\n",
    "        df_folds['object_count'].values.astype(str),\n",
    "        df_folds['bbox_count'].apply(lambda x: f'_{x // 15}').values.astype(str)\n",
    "    )\n",
    "\n",
    "    skf = StratifiedKFold(n_splits=kfold, shuffle=True, random_state=777)\n",
    "    df_folds.loc[:, 'fold'] = 0\n",
    "    for fold_number, (train_index, val_index) in enumerate(skf.split(X=df_folds.index, y=df_folds['stratify_group'])):\n",
    "        df_folds.loc[df_folds.iloc[val_index].index, 'fold'] = fold_number\n",
    "\n",
    "    df_folds.reset_index(inplace=True)\n",
    "    for fold in range(kfold):\n",
    "        df_train = pd.merge(df, df_folds[df_folds['fold'] != fold], on='image_id')\n",
    "        df_valid = pd.merge(df, df_folds[df_folds['fold'] == fold], on='image_id')\n",
    "\n",
    "        print(df_train['class_id'].value_counts())\n",
    "        print(df_valid['class_id'].value_counts())\n",
    "\n",
    "        valid_image_list = list(df_valid.image_id.unique())\n",
    "\n",
    "        make_train_valid_json(valid_image_list, fold)\n"
   ],
   "outputs": [],
   "metadata": {}
  },
  {
   "cell_type": "code",
   "execution_count": 5,
   "source": [
    "df = pd.DataFrame({\"image_id\": [0] * 80218, \"class_id\": [0] * 80218})\n",
    "\n",
    "for idx, (ann) in enumerate(ann_json[\"annotations\"]):\n",
    "    df.loc[idx, \"image_id\"] = ann[\"image_id\"]\n",
    "    df.loc[idx, \"class_id\"] = ann[\"category_id\"]\n",
    "\n",
    "df"
   ],
   "outputs": [
    {
     "output_type": "execute_result",
     "data": {
      "text/html": [
       "<div>\n",
       "<style scoped>\n",
       "    .dataframe tbody tr th:only-of-type {\n",
       "        vertical-align: middle;\n",
       "    }\n",
       "\n",
       "    .dataframe tbody tr th {\n",
       "        vertical-align: top;\n",
       "    }\n",
       "\n",
       "    .dataframe thead th {\n",
       "        text-align: right;\n",
       "    }\n",
       "</style>\n",
       "<table border=\"1\" class=\"dataframe\">\n",
       "  <thead>\n",
       "    <tr style=\"text-align: right;\">\n",
       "      <th></th>\n",
       "      <th>image_id</th>\n",
       "      <th>class_id</th>\n",
       "    </tr>\n",
       "  </thead>\n",
       "  <tbody>\n",
       "    <tr>\n",
       "      <th>0</th>\n",
       "      <td>130874</td>\n",
       "      <td>1</td>\n",
       "    </tr>\n",
       "    <tr>\n",
       "      <th>1</th>\n",
       "      <td>117880</td>\n",
       "      <td>1</td>\n",
       "    </tr>\n",
       "    <tr>\n",
       "      <th>2</th>\n",
       "      <td>117880</td>\n",
       "      <td>4</td>\n",
       "    </tr>\n",
       "    <tr>\n",
       "      <th>3</th>\n",
       "      <td>113386</td>\n",
       "      <td>4</td>\n",
       "    </tr>\n",
       "    <tr>\n",
       "      <th>4</th>\n",
       "      <td>148678</td>\n",
       "      <td>4</td>\n",
       "    </tr>\n",
       "    <tr>\n",
       "      <th>...</th>\n",
       "      <td>...</td>\n",
       "      <td>...</td>\n",
       "    </tr>\n",
       "    <tr>\n",
       "      <th>80213</th>\n",
       "      <td>122410</td>\n",
       "      <td>1</td>\n",
       "    </tr>\n",
       "    <tr>\n",
       "      <th>80214</th>\n",
       "      <td>151392</td>\n",
       "      <td>3</td>\n",
       "    </tr>\n",
       "    <tr>\n",
       "      <th>80215</th>\n",
       "      <td>127363</td>\n",
       "      <td>1</td>\n",
       "    </tr>\n",
       "    <tr>\n",
       "      <th>80216</th>\n",
       "      <td>127363</td>\n",
       "      <td>4</td>\n",
       "    </tr>\n",
       "    <tr>\n",
       "      <th>80217</th>\n",
       "      <td>101065</td>\n",
       "      <td>1</td>\n",
       "    </tr>\n",
       "  </tbody>\n",
       "</table>\n",
       "<p>80218 rows × 2 columns</p>\n",
       "</div>"
      ],
      "text/plain": [
       "       image_id  class_id\n",
       "0        130874         1\n",
       "1        117880         1\n",
       "2        117880         4\n",
       "3        113386         4\n",
       "4        148678         4\n",
       "...         ...       ...\n",
       "80213    122410         1\n",
       "80214    151392         3\n",
       "80215    127363         1\n",
       "80216    127363         4\n",
       "80217    101065         1\n",
       "\n",
       "[80218 rows x 2 columns]"
      ]
     },
     "metadata": {},
     "execution_count": 5
    }
   ],
   "metadata": {}
  },
  {
   "cell_type": "code",
   "execution_count": 6,
   "source": [
    "get_train_valid_img_list(5, df)"
   ],
   "outputs": [
    {
     "output_type": "stream",
     "name": "stdout",
     "text": [
      "1    31184\n",
      "4    15517\n",
      "3     9586\n",
      "2     7855\n",
      "Name: class_id, dtype: int64\n",
      "1    7774\n",
      "4    3981\n",
      "3    2416\n",
      "2    1905\n",
      "Name: class_id, dtype: int64\n"
     ]
    },
    {
     "output_type": "stream",
     "name": "stderr",
     "text": [
      "100%|██████████| 62622/62622 [00:55<00:00, 1126.49it/s]\n",
      "100%|██████████| 80218/80218 [01:13<00:00, 1084.89it/s]\n"
     ]
    },
    {
     "output_type": "stream",
     "name": "stdout",
     "text": [
      "1    31137\n",
      "4    15649\n",
      "3     9613\n",
      "2     7796\n",
      "Name: class_id, dtype: int64\n",
      "1    7821\n",
      "4    3849\n",
      "3    2389\n",
      "2    1964\n",
      "Name: class_id, dtype: int64\n"
     ]
    },
    {
     "output_type": "stream",
     "name": "stderr",
     "text": [
      "100%|██████████| 62622/62622 [00:58<00:00, 1067.35it/s]\n",
      "100%|██████████| 80218/80218 [01:13<00:00, 1089.37it/s]\n"
     ]
    },
    {
     "output_type": "stream",
     "name": "stdout",
     "text": [
      "1    31155\n",
      "4    15630\n",
      "3     9573\n",
      "2     7817\n",
      "Name: class_id, dtype: int64\n",
      "1    7803\n",
      "4    3868\n",
      "3    2429\n",
      "2    1943\n",
      "Name: class_id, dtype: int64\n"
     ]
    },
    {
     "output_type": "stream",
     "name": "stderr",
     "text": [
      "100%|██████████| 62622/62622 [00:55<00:00, 1119.66it/s]\n",
      "100%|██████████| 80218/80218 [01:12<00:00, 1112.54it/s]\n"
     ]
    },
    {
     "output_type": "stream",
     "name": "stdout",
     "text": [
      "1    31144\n",
      "4    15595\n",
      "3     9644\n",
      "2     7798\n",
      "Name: class_id, dtype: int64\n",
      "1    7814\n",
      "4    3903\n",
      "3    2358\n",
      "2    1962\n",
      "Name: class_id, dtype: int64\n"
     ]
    },
    {
     "output_type": "stream",
     "name": "stderr",
     "text": [
      "100%|██████████| 62622/62622 [00:57<00:00, 1095.44it/s]\n",
      "100%|██████████| 80218/80218 [01:11<00:00, 1114.28it/s]\n"
     ]
    },
    {
     "output_type": "stream",
     "name": "stdout",
     "text": [
      "1    31212\n",
      "4    15601\n",
      "3     9592\n",
      "2     7774\n",
      "Name: class_id, dtype: int64\n",
      "1    7746\n",
      "4    3897\n",
      "3    2410\n",
      "2    1986\n",
      "Name: class_id, dtype: int64\n"
     ]
    },
    {
     "output_type": "stream",
     "name": "stderr",
     "text": [
      "100%|██████████| 62622/62622 [00:57<00:00, 1083.78it/s]\n",
      "100%|██████████| 80218/80218 [01:11<00:00, 1122.55it/s]\n"
     ]
    }
   ],
   "metadata": {}
  },
  {
   "cell_type": "markdown",
   "source": [
    "## Check Train-Valid box distribution"
   ],
   "metadata": {}
  },
  {
   "cell_type": "code",
   "execution_count": null,
   "source": [
    "coco_path = \"/home/minyong-voyagerx/Mignon/Min/bb-detection/train_fold0.json\"\n",
    "\n",
    "with open(coco_path, 'r') as f:\n",
    "    ann_json = json.load(f)\n",
    "\n",
    "result = [0] * 4\n",
    "img_box = defaultdict(int)\n",
    "\n",
    "for ann in ann_json[\"annotations\"]:\n",
    "    result[ann[\"category_id\"] - 1] += 1\n",
    "    img_box[ann[\"image_id\"]] += 1\n",
    "\n",
    "print(\"Each class box distribution: \", result)\n",
    "print(\"Total box number: \", sum(result))\n",
    "print(\"Total image number: \", len(ann_json[\"images\"]))\n",
    "\n",
    "\n",
    "\n",
    "coco_path = \"/home/minyong-voyagerx/Mignon/Min/bb-detection/valid_fold0.json\"\n",
    "\n",
    "with open(coco_path, 'r') as f:\n",
    "    ann_json = json.load(f)\n",
    "\n",
    "result = [0] * 4\n",
    "img_box = defaultdict(int)\n",
    "\n",
    "for ann in ann_json[\"annotations\"]:\n",
    "    result[ann[\"category_id\"] - 1] += 1\n",
    "    img_box[ann[\"image_id\"]] += 1\n",
    "\n",
    "print(\"Each class box distribution: \", result)\n",
    "print(\"Total box number: \", sum(result))\n",
    "print(\"Total image number: \", len(ann_json[\"images\"]))"
   ],
   "outputs": [],
   "metadata": {}
  },
  {
   "cell_type": "code",
   "execution_count": null,
   "source": [],
   "outputs": [],
   "metadata": {}
  }
 ],
 "metadata": {
  "interpreter": {
   "hash": "dc18d457dba608fe69fb520f5def7cfd617ffc4c70dd7b18cd99a5d79f65848c"
  },
  "kernelspec": {
   "name": "python3",
   "display_name": "Python 3.8.12 64-bit ('korean-font-gen': conda)"
  },
  "language_info": {
   "codemirror_mode": {
    "name": "ipython",
    "version": 3
   },
   "file_extension": ".py",
   "mimetype": "text/x-python",
   "name": "python",
   "nbconvert_exporter": "python",
   "pygments_lexer": "ipython3",
   "version": "3.8.12"
  },
  "orig_nbformat": 4
 },
 "nbformat": 4,
 "nbformat_minor": 2
}